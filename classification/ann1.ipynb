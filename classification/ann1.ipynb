{
 "cells": [
  {
   "cell_type": "code",
   "execution_count": 15,
   "metadata": {},
   "outputs": [],
   "source": [
    "import numpy as np \n",
    "import matplotlib.pyplot as plt\n",
    "import tensorflow as tf \n",
    "from sklearn.model_selection import train_test_split\n",
    "from tensorflow import keras\n",
    "\n",
    "#from tensorflow.keras  import layers\n",
    "#from tensorflow.keras import Sequential\n",
    "#from tensorflow.keras.layers import Dense"
   ]
  },
  {
   "cell_type": "code",
   "execution_count": 16,
   "metadata": {},
   "outputs": [],
   "source": [
    "# data generate \n",
    "np.random.seed(0)\n",
    "features=np.random.rand(100,2)\n",
    "label=(features[:,0] + features[:,1]).astype(int)\n"
   ]
  },
  {
   "cell_type": "code",
   "execution_count": 17,
   "metadata": {},
   "outputs": [],
   "source": [
    "# split data\n",
    "trainX,testX,trainY,testY=train_test_split(features,label,train_size=0.7,random_state=100)"
   ]
  },
  {
   "cell_type": "code",
   "execution_count": 22,
   "metadata": {},
   "outputs": [],
   "source": [
    "# lets design layers of ANN using \n",
    "myann_model=keras.Sequential([keras.layers.Dense(7,activation='relu'),\n",
    "                  keras.layers.Dense(12,activation='relu'),\n",
    "                  keras.layers.Dense(1,activation='sigmoid')\n",
    "                  ])\n",
    "# better model \n",
    "#Sequential([Dense()])"
   ]
  },
  {
   "cell_type": "code",
   "execution_count": 23,
   "metadata": {},
   "outputs": [],
   "source": [
    "# lets compile ANN layers with cost /loss function\n",
    "myann_model.compile(optimizer='adam',loss='binary_crossentropy',metrics=['accuracy'])\n"
   ]
  },
  {
   "cell_type": "code",
   "execution_count": 27,
   "metadata": {},
   "outputs": [
    {
     "name": "stdout",
     "output_type": "stream",
     "text": [
      "Epoch 1/50\n",
      "2/2 [==============================] - 0s 2ms/step - loss: 0.8004 - accuracy: 0.4429\n",
      "Epoch 2/50\n",
      "2/2 [==============================] - 0s 2ms/step - loss: 0.7958 - accuracy: 0.4429\n",
      "Epoch 3/50\n",
      "2/2 [==============================] - 0s 1ms/step - loss: 0.7914 - accuracy: 0.4429\n",
      "Epoch 4/50\n",
      "2/2 [==============================] - 0s 2ms/step - loss: 0.7857 - accuracy: 0.4429\n",
      "Epoch 5/50\n",
      "2/2 [==============================] - 0s 2ms/step - loss: 0.7817 - accuracy: 0.4429\n",
      "Epoch 6/50\n",
      "2/2 [==============================] - 0s 1ms/step - loss: 0.7778 - accuracy: 0.4286\n",
      "Epoch 7/50\n",
      "2/2 [==============================] - 0s 2ms/step - loss: 0.7728 - accuracy: 0.4286\n",
      "Epoch 8/50\n",
      "2/2 [==============================] - 0s 2ms/step - loss: 0.7690 - accuracy: 0.4286\n",
      "Epoch 9/50\n",
      "2/2 [==============================] - 0s 1ms/step - loss: 0.7655 - accuracy: 0.4143\n",
      "Epoch 10/50\n",
      "2/2 [==============================] - 0s 2ms/step - loss: 0.7612 - accuracy: 0.4143\n",
      "Epoch 11/50\n",
      "2/2 [==============================] - 0s 2ms/step - loss: 0.7584 - accuracy: 0.4000\n",
      "Epoch 12/50\n",
      "2/2 [==============================] - 0s 2ms/step - loss: 0.7552 - accuracy: 0.3571\n",
      "Epoch 13/50\n",
      "2/2 [==============================] - 0s 2ms/step - loss: 0.7517 - accuracy: 0.3286\n",
      "Epoch 14/50\n",
      "2/2 [==============================] - 0s 1ms/step - loss: 0.7481 - accuracy: 0.3286\n",
      "Epoch 15/50\n",
      "2/2 [==============================] - 0s 1ms/step - loss: 0.7452 - accuracy: 0.3143\n",
      "Epoch 16/50\n",
      "2/2 [==============================] - 0s 1ms/step - loss: 0.7426 - accuracy: 0.3000\n",
      "Epoch 17/50\n",
      "2/2 [==============================] - 0s 2ms/step - loss: 0.7400 - accuracy: 0.2857\n",
      "Epoch 18/50\n",
      "2/2 [==============================] - 0s 3ms/step - loss: 0.7378 - accuracy: 0.2571\n",
      "Epoch 19/50\n",
      "2/2 [==============================] - 0s 2ms/step - loss: 0.7355 - accuracy: 0.2571\n",
      "Epoch 20/50\n",
      "2/2 [==============================] - 0s 2ms/step - loss: 0.7332 - accuracy: 0.2571\n",
      "Epoch 21/50\n",
      "2/2 [==============================] - 0s 4ms/step - loss: 0.7312 - accuracy: 0.2571\n",
      "Epoch 22/50\n",
      "2/2 [==============================] - 0s 8ms/step - loss: 0.7289 - accuracy: 0.2429\n",
      "Epoch 23/50\n",
      "2/2 [==============================] - 0s 3ms/step - loss: 0.7269 - accuracy: 0.2286\n",
      "Epoch 24/50\n",
      "2/2 [==============================] - 0s 3ms/step - loss: 0.7250 - accuracy: 0.2143\n",
      "Epoch 25/50\n",
      "2/2 [==============================] - 0s 1ms/step - loss: 0.7233 - accuracy: 0.1429\n",
      "Epoch 26/50\n",
      "2/2 [==============================] - 0s 1ms/step - loss: 0.7217 - accuracy: 0.1286\n",
      "Epoch 27/50\n",
      "2/2 [==============================] - 0s 1ms/step - loss: 0.7200 - accuracy: 0.1286\n",
      "Epoch 28/50\n",
      "2/2 [==============================] - 0s 1ms/step - loss: 0.7183 - accuracy: 0.1000\n",
      "Epoch 29/50\n",
      "2/2 [==============================] - 0s 1ms/step - loss: 0.7167 - accuracy: 0.1714\n",
      "Epoch 30/50\n",
      "2/2 [==============================] - 0s 1ms/step - loss: 0.7154 - accuracy: 0.2143\n",
      "Epoch 31/50\n",
      "2/2 [==============================] - 0s 1ms/step - loss: 0.7135 - accuracy: 0.2571\n",
      "Epoch 32/50\n",
      "2/2 [==============================] - 0s 999us/step - loss: 0.7123 - accuracy: 0.2714\n",
      "Epoch 33/50\n",
      "2/2 [==============================] - 0s 1ms/step - loss: 0.7108 - accuracy: 0.3571\n",
      "Epoch 34/50\n",
      "2/2 [==============================] - 0s 1ms/step - loss: 0.7092 - accuracy: 0.4000\n",
      "Epoch 35/50\n",
      "2/2 [==============================] - 0s 1ms/step - loss: 0.7078 - accuracy: 0.4429\n",
      "Epoch 36/50\n",
      "2/2 [==============================] - 0s 1ms/step - loss: 0.7066 - accuracy: 0.5286\n",
      "Epoch 37/50\n",
      "2/2 [==============================] - 0s 1ms/step - loss: 0.7055 - accuracy: 0.5286\n",
      "Epoch 38/50\n",
      "2/2 [==============================] - 0s 1ms/step - loss: 0.7041 - accuracy: 0.5429\n",
      "Epoch 39/50\n",
      "2/2 [==============================] - 0s 1ms/step - loss: 0.7025 - accuracy: 0.5429\n",
      "Epoch 40/50\n",
      "2/2 [==============================] - 0s 1ms/step - loss: 0.7016 - accuracy: 0.5429\n",
      "Epoch 41/50\n",
      "2/2 [==============================] - 0s 1ms/step - loss: 0.7004 - accuracy: 0.5429\n",
      "Epoch 42/50\n",
      "2/2 [==============================] - 0s 1ms/step - loss: 0.6989 - accuracy: 0.5429\n",
      "Epoch 43/50\n",
      "2/2 [==============================] - 0s 1ms/step - loss: 0.6980 - accuracy: 0.5429\n",
      "Epoch 44/50\n",
      "2/2 [==============================] - 0s 1ms/step - loss: 0.6968 - accuracy: 0.5429\n",
      "Epoch 45/50\n",
      "2/2 [==============================] - 0s 1ms/step - loss: 0.6957 - accuracy: 0.5429\n",
      "Epoch 46/50\n",
      "2/2 [==============================] - 0s 1ms/step - loss: 0.6946 - accuracy: 0.5429\n",
      "Epoch 47/50\n",
      "2/2 [==============================] - 0s 923us/step - loss: 0.6936 - accuracy: 0.5429\n",
      "Epoch 48/50\n",
      "2/2 [==============================] - 0s 1ms/step - loss: 0.6928 - accuracy: 0.5429\n",
      "Epoch 49/50\n",
      "2/2 [==============================] - 0s 2ms/step - loss: 0.6917 - accuracy: 0.5429\n",
      "Epoch 50/50\n",
      "2/2 [==============================] - 0s 1ms/step - loss: 0.6905 - accuracy: 0.5429\n"
     ]
    },
    {
     "data": {
      "text/plain": [
       "<keras.src.callbacks.History at 0x28e44e150>"
      ]
     },
     "execution_count": 27,
     "metadata": {},
     "output_type": "execute_result"
    }
   ],
   "source": [
    "# time to train data\n",
    "myann_model.fit(trainX,trainY,epochs=50,batch_size=40)"
   ]
  },
  {
   "cell_type": "code",
   "execution_count": null,
   "metadata": {},
   "outputs": [],
   "source": []
  }
 ],
 "metadata": {
  "kernelspec": {
   "display_name": "Python 3",
   "language": "python",
   "name": "python3"
  },
  "language_info": {
   "codemirror_mode": {
    "name": "ipython",
    "version": 3
   },
   "file_extension": ".py",
   "mimetype": "text/x-python",
   "name": "python",
   "nbconvert_exporter": "python",
   "pygments_lexer": "ipython3",
   "version": "3.11.4"
  },
  "orig_nbformat": 4
 },
 "nbformat": 4,
 "nbformat_minor": 2
}
