{
 "cells": [
  {
   "cell_type": "code",
   "execution_count": 9,
   "metadata": {},
   "outputs": [],
   "source": [
    "import pandas as pd \n",
    "import numpy as np\n",
    "from sklearn.preprocessing import LabelEncoder # str to number\n",
    "from sklearn.compose import ColumnTransformer # metadata\n",
    "from sklearn.preprocessing import OneHotEncoder # take action on that metadata\n",
    "from sklearn.preprocessing import StandardScaler # for feature scaling\n",
    "from sklearn.model_selection import train_test_split  \n",
    "#from  tensorflow  import keras\n",
    "from tensorflow.keras import Sequential\n",
    "from tensorflow.keras.layers import Dense\n"
   ]
  },
  {
   "cell_type": "code",
   "execution_count": 2,
   "metadata": {},
   "outputs": [
    {
     "data": {
      "text/html": [
       "<div>\n",
       "<style scoped>\n",
       "    .dataframe tbody tr th:only-of-type {\n",
       "        vertical-align: middle;\n",
       "    }\n",
       "\n",
       "    .dataframe tbody tr th {\n",
       "        vertical-align: top;\n",
       "    }\n",
       "\n",
       "    .dataframe thead th {\n",
       "        text-align: right;\n",
       "    }\n",
       "</style>\n",
       "<table border=\"1\" class=\"dataframe\">\n",
       "  <thead>\n",
       "    <tr style=\"text-align: right;\">\n",
       "      <th></th>\n",
       "      <th>RowNumber</th>\n",
       "      <th>CustomerId</th>\n",
       "      <th>Surname</th>\n",
       "      <th>CreditScore</th>\n",
       "      <th>Geography</th>\n",
       "      <th>Gender</th>\n",
       "      <th>Age</th>\n",
       "      <th>Tenure</th>\n",
       "      <th>Balance</th>\n",
       "      <th>NumOfProducts</th>\n",
       "      <th>HasCrCard</th>\n",
       "      <th>IsActiveMember</th>\n",
       "      <th>EstimatedSalary</th>\n",
       "      <th>Exited</th>\n",
       "    </tr>\n",
       "  </thead>\n",
       "  <tbody>\n",
       "    <tr>\n",
       "      <th>0</th>\n",
       "      <td>1</td>\n",
       "      <td>15634602</td>\n",
       "      <td>Hargrave</td>\n",
       "      <td>619</td>\n",
       "      <td>France</td>\n",
       "      <td>Female</td>\n",
       "      <td>42</td>\n",
       "      <td>2</td>\n",
       "      <td>0.00</td>\n",
       "      <td>1</td>\n",
       "      <td>1</td>\n",
       "      <td>1</td>\n",
       "      <td>101348.88</td>\n",
       "      <td>1</td>\n",
       "    </tr>\n",
       "    <tr>\n",
       "      <th>1</th>\n",
       "      <td>2</td>\n",
       "      <td>15647311</td>\n",
       "      <td>Hill</td>\n",
       "      <td>608</td>\n",
       "      <td>Spain</td>\n",
       "      <td>Female</td>\n",
       "      <td>41</td>\n",
       "      <td>1</td>\n",
       "      <td>83807.86</td>\n",
       "      <td>1</td>\n",
       "      <td>0</td>\n",
       "      <td>1</td>\n",
       "      <td>112542.58</td>\n",
       "      <td>0</td>\n",
       "    </tr>\n",
       "    <tr>\n",
       "      <th>2</th>\n",
       "      <td>3</td>\n",
       "      <td>15619304</td>\n",
       "      <td>Onio</td>\n",
       "      <td>502</td>\n",
       "      <td>France</td>\n",
       "      <td>Female</td>\n",
       "      <td>42</td>\n",
       "      <td>8</td>\n",
       "      <td>159660.80</td>\n",
       "      <td>3</td>\n",
       "      <td>1</td>\n",
       "      <td>0</td>\n",
       "      <td>113931.57</td>\n",
       "      <td>1</td>\n",
       "    </tr>\n",
       "    <tr>\n",
       "      <th>3</th>\n",
       "      <td>4</td>\n",
       "      <td>15701354</td>\n",
       "      <td>Boni</td>\n",
       "      <td>699</td>\n",
       "      <td>France</td>\n",
       "      <td>Female</td>\n",
       "      <td>39</td>\n",
       "      <td>1</td>\n",
       "      <td>0.00</td>\n",
       "      <td>2</td>\n",
       "      <td>0</td>\n",
       "      <td>0</td>\n",
       "      <td>93826.63</td>\n",
       "      <td>0</td>\n",
       "    </tr>\n",
       "    <tr>\n",
       "      <th>4</th>\n",
       "      <td>5</td>\n",
       "      <td>15737888</td>\n",
       "      <td>Mitchell</td>\n",
       "      <td>850</td>\n",
       "      <td>Spain</td>\n",
       "      <td>Female</td>\n",
       "      <td>43</td>\n",
       "      <td>2</td>\n",
       "      <td>125510.82</td>\n",
       "      <td>1</td>\n",
       "      <td>1</td>\n",
       "      <td>1</td>\n",
       "      <td>79084.10</td>\n",
       "      <td>0</td>\n",
       "    </tr>\n",
       "  </tbody>\n",
       "</table>\n",
       "</div>"
      ],
      "text/plain": [
       "   RowNumber  CustomerId   Surname  CreditScore Geography  Gender  Age  \\\n",
       "0          1    15634602  Hargrave          619    France  Female   42   \n",
       "1          2    15647311      Hill          608     Spain  Female   41   \n",
       "2          3    15619304      Onio          502    France  Female   42   \n",
       "3          4    15701354      Boni          699    France  Female   39   \n",
       "4          5    15737888  Mitchell          850     Spain  Female   43   \n",
       "\n",
       "   Tenure    Balance  NumOfProducts  HasCrCard  IsActiveMember  \\\n",
       "0       2       0.00              1          1               1   \n",
       "1       1   83807.86              1          0               1   \n",
       "2       8  159660.80              3          1               0   \n",
       "3       1       0.00              2          0               0   \n",
       "4       2  125510.82              1          1               1   \n",
       "\n",
       "   EstimatedSalary  Exited  \n",
       "0        101348.88       1  \n",
       "1        112542.58       0  \n",
       "2        113931.57       1  \n",
       "3         93826.63       0  \n",
       "4         79084.10       0  "
      ]
     },
     "execution_count": 2,
     "metadata": {},
     "output_type": "execute_result"
    }
   ],
   "source": [
    "# loading data\n",
    "url1='https://raw.githubusercontent.com/redashu/Datasets/master/bank.csv'\n",
    "dataset=pd.read_csv(url1)\n",
    "dataset.head()"
   ]
  },
  {
   "cell_type": "code",
   "execution_count": 3,
   "metadata": {},
   "outputs": [
    {
     "name": "stdout",
     "output_type": "stream",
     "text": [
      "[[619 'France' 'Female' ... 1 1 101348.88]\n",
      " [608 'Spain' 'Female' ... 0 1 112542.58]\n",
      " [502 'France' 'Female' ... 1 0 113931.57]\n",
      " ...\n",
      " [709 'France' 'Female' ... 0 1 42085.58]\n",
      " [772 'Germany' 'Male' ... 1 0 92888.52]\n",
      " [792 'France' 'Female' ... 1 0 38190.78]]\n"
     ]
    }
   ],
   "source": [
    "# creating features and label in dataset\n",
    "features=dataset.iloc[:,3:-1].values\n",
    "label=dataset.iloc[:,-1].values\n",
    "print(features)"
   ]
  },
  {
   "cell_type": "code",
   "execution_count": 4,
   "metadata": {},
   "outputs": [
    {
     "name": "stdout",
     "output_type": "stream",
     "text": [
      "[[619 'France' 0 ... 1 1 101348.88]\n",
      " [608 'Spain' 0 ... 0 1 112542.58]\n",
      " [502 'France' 0 ... 1 0 113931.57]\n",
      " ...\n",
      " [709 'France' 0 ... 0 1 42085.58]\n",
      " [772 'Germany' 1 ... 1 0 92888.52]\n",
      " [792 'France' 0 ... 1 0 38190.78]]\n"
     ]
    }
   ],
   "source": [
    "# calling label encoder \n",
    "le=LabelEncoder() # M(1) & F(0) encoding -- number \n",
    "features[:,2]=le.fit_transform(features[:,2])\n",
    "print(features)"
   ]
  },
  {
   "cell_type": "code",
   "execution_count": 5,
   "metadata": {},
   "outputs": [
    {
     "name": "stdout",
     "output_type": "stream",
     "text": [
      "[[1.0 0.0 0.0 ... 1 1 101348.88]\n",
      " [0.0 0.0 1.0 ... 0 1 112542.58]\n",
      " [1.0 0.0 0.0 ... 1 0 113931.57]\n",
      " ...\n",
      " [1.0 0.0 0.0 ... 0 1 42085.58]\n",
      " [0.0 1.0 0.0 ... 1 0 92888.52]\n",
      " [1.0 0.0 0.0 ... 1 0 38190.78]]\n"
     ]
    }
   ],
   "source": [
    "# preparing metadata\n",
    "ct1=ColumnTransformer(transformers=[('encoder',OneHotEncoder(),[1])], remainder='passthrough')\n",
    "features=np.array(ct1.fit_transform(features))\n",
    "print(features)\n",
    "#                               encoding type , method , column "
   ]
  },
  {
   "cell_type": "code",
   "execution_count": 6,
   "metadata": {},
   "outputs": [],
   "source": [
    "# data split \n",
    "trainX,testX,trainY,testY=train_test_split(features,label,test_size=0.2)"
   ]
  },
  {
   "cell_type": "code",
   "execution_count": 7,
   "metadata": {},
   "outputs": [
    {
     "name": "stdout",
     "output_type": "stream",
     "text": [
      "[[-1.00125078 -0.57908232  1.74017165 ...  0.6474524   0.97432938\n",
      "   0.92644141]\n",
      " [-1.00125078 -0.57908232  1.74017165 ...  0.6474524  -1.02634696\n",
      "  -0.46677281]\n",
      " [-1.00125078 -0.57908232  1.74017165 ... -1.54451509  0.97432938\n",
      "   0.05879389]\n",
      " ...\n",
      " [-1.00125078 -0.57908232  1.74017165 ...  0.6474524   0.97432938\n",
      "   0.40830927]\n",
      " [ 0.99875078 -0.57908232 -0.57465595 ...  0.6474524  -1.02634696\n",
      "   0.57370925]\n",
      " [-1.00125078 -0.57908232  1.74017165 ...  0.6474524   0.97432938\n",
      "  -0.08699838]]\n"
     ]
    }
   ],
   "source": [
    "# feature scaling \n",
    "sc=StandardScaler() # normalization and standardization \n",
    "scaled_trainX=sc.fit_transform(trainX)\n",
    "print(scaled_trainX)"
   ]
  },
  {
   "cell_type": "code",
   "execution_count": 11,
   "metadata": {},
   "outputs": [],
   "source": [
    "# creatin ANN model --sequential \n",
    "myann2=Sequential()"
   ]
  },
  {
   "cell_type": "code",
   "execution_count": 12,
   "metadata": {},
   "outputs": [],
   "source": [
    "# adding Intermediate / hidden layers \n",
    "myann2.add(Dense(20,activation='relu')) # first hidden layer \n",
    "myann2.add(Dense(20,activation='relu'))\n",
    "myann2.add(Dense(20,activation='relu'))\n",
    "myann2.add(Dense(1,activation='sigmoid')) # output layer "
   ]
  },
  {
   "cell_type": "code",
   "execution_count": 13,
   "metadata": {},
   "outputs": [],
   "source": [
    "# compile -- defining final layer cost function for back prapogation\n",
    "myann2.compile(optimizer='adam',loss='binary_crossentropy',metrics=['accuracy'])\n",
    "# if optimizer is adam then we user stochstic gradient decent"
   ]
  },
  {
   "cell_type": "code",
   "execution_count": 14,
   "metadata": {},
   "outputs": [
    {
     "name": "stdout",
     "output_type": "stream",
     "text": [
      "Epoch 1/30\n",
      "200/200 [==============================] - 0s 357us/step - loss: 0.4853 - accuracy: 0.7776\n",
      "Epoch 2/30\n",
      "200/200 [==============================] - 0s 341us/step - loss: 0.4115 - accuracy: 0.8270\n",
      "Epoch 3/30\n",
      "200/200 [==============================] - 0s 339us/step - loss: 0.3718 - accuracy: 0.8476\n",
      "Epoch 4/30\n",
      "200/200 [==============================] - 0s 337us/step - loss: 0.3510 - accuracy: 0.8581\n",
      "Epoch 5/30\n",
      "200/200 [==============================] - 0s 337us/step - loss: 0.3431 - accuracy: 0.8583\n",
      "Epoch 6/30\n",
      "200/200 [==============================] - 0s 365us/step - loss: 0.3378 - accuracy: 0.8615\n",
      "Epoch 7/30\n",
      "200/200 [==============================] - 0s 326us/step - loss: 0.3360 - accuracy: 0.8608\n",
      "Epoch 8/30\n",
      "200/200 [==============================] - 0s 338us/step - loss: 0.3326 - accuracy: 0.8619\n",
      "Epoch 9/30\n",
      "200/200 [==============================] - 0s 394us/step - loss: 0.3305 - accuracy: 0.8643\n",
      "Epoch 10/30\n",
      "200/200 [==============================] - 0s 349us/step - loss: 0.3275 - accuracy: 0.8630\n",
      "Epoch 11/30\n",
      "200/200 [==============================] - 0s 332us/step - loss: 0.3265 - accuracy: 0.8637\n",
      "Epoch 12/30\n",
      "200/200 [==============================] - 0s 336us/step - loss: 0.3248 - accuracy: 0.8662\n",
      "Epoch 13/30\n",
      "200/200 [==============================] - 0s 322us/step - loss: 0.3226 - accuracy: 0.8651\n",
      "Epoch 14/30\n",
      "200/200 [==============================] - 0s 326us/step - loss: 0.3220 - accuracy: 0.8673\n",
      "Epoch 15/30\n",
      "200/200 [==============================] - 0s 334us/step - loss: 0.3210 - accuracy: 0.8662\n",
      "Epoch 16/30\n",
      "200/200 [==============================] - 0s 316us/step - loss: 0.3200 - accuracy: 0.8652\n",
      "Epoch 17/30\n",
      "200/200 [==============================] - 0s 324us/step - loss: 0.3184 - accuracy: 0.8695\n",
      "Epoch 18/30\n",
      "200/200 [==============================] - 0s 343us/step - loss: 0.3162 - accuracy: 0.8676\n",
      "Epoch 19/30\n",
      "200/200 [==============================] - 0s 326us/step - loss: 0.3163 - accuracy: 0.8696\n",
      "Epoch 20/30\n",
      "200/200 [==============================] - 0s 333us/step - loss: 0.3152 - accuracy: 0.8680\n",
      "Epoch 21/30\n",
      "200/200 [==============================] - 0s 332us/step - loss: 0.3150 - accuracy: 0.8685\n",
      "Epoch 22/30\n",
      "200/200 [==============================] - 0s 331us/step - loss: 0.3134 - accuracy: 0.8701\n",
      "Epoch 23/30\n",
      "200/200 [==============================] - 0s 333us/step - loss: 0.3129 - accuracy: 0.8704\n",
      "Epoch 24/30\n",
      "200/200 [==============================] - 0s 333us/step - loss: 0.3130 - accuracy: 0.8690\n",
      "Epoch 25/30\n",
      "200/200 [==============================] - 0s 329us/step - loss: 0.3111 - accuracy: 0.8711\n",
      "Epoch 26/30\n",
      "200/200 [==============================] - 0s 333us/step - loss: 0.3103 - accuracy: 0.8702\n",
      "Epoch 27/30\n",
      "200/200 [==============================] - 0s 329us/step - loss: 0.3093 - accuracy: 0.8696\n",
      "Epoch 28/30\n",
      "200/200 [==============================] - 0s 333us/step - loss: 0.3096 - accuracy: 0.8709\n",
      "Epoch 29/30\n",
      "200/200 [==============================] - 0s 333us/step - loss: 0.3085 - accuracy: 0.8717\n",
      "Epoch 30/30\n",
      "200/200 [==============================] - 0s 404us/step - loss: 0.3085 - accuracy: 0.8699\n"
     ]
    },
    {
     "data": {
      "text/plain": [
       "<keras.src.callbacks.History at 0x28ef17b10>"
      ]
     },
     "execution_count": 14,
     "metadata": {},
     "output_type": "execute_result"
    }
   ],
   "source": [
    "# time to train data\n",
    "myann2.fit(scaled_trainX,trainY,epochs=30,batch_size=40)"
   ]
  },
  {
   "cell_type": "code",
   "execution_count": 16,
   "metadata": {},
   "outputs": [
    {
     "name": "stdout",
     "output_type": "stream",
     "text": [
      "1/1 [==============================] - 0s 17ms/step\n"
     ]
    },
    {
     "data": {
      "text/plain": [
       "array([0.], dtype=float32)"
      ]
     },
     "execution_count": 16,
     "metadata": {},
     "output_type": "execute_result"
    }
   ],
   "source": [
    "# prediction \n",
    "myann2.predict(sc.transform([[812,0,0,1,1,32,7,230000,3,0,1,120000]]))"
   ]
  },
  {
   "cell_type": "code",
   "execution_count": null,
   "metadata": {},
   "outputs": [],
   "source": []
  }
 ],
 "metadata": {
  "kernelspec": {
   "display_name": "Python 3",
   "language": "python",
   "name": "python3"
  },
  "language_info": {
   "codemirror_mode": {
    "name": "ipython",
    "version": 3
   },
   "file_extension": ".py",
   "mimetype": "text/x-python",
   "name": "python",
   "nbconvert_exporter": "python",
   "pygments_lexer": "ipython3",
   "version": "3.11.4"
  },
  "orig_nbformat": 4
 },
 "nbformat": 4,
 "nbformat_minor": 2
}
